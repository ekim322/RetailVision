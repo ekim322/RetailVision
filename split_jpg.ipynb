{
 "cells": [
  {
   "cell_type": "code",
   "execution_count": 1,
   "id": "d6166782",
   "metadata": {},
   "outputs": [],
   "source": [
    "import os\n",
    "import glob\n",
    "from PIL import Image\n",
    "import pyheif\n",
    "import numpy as np\n",
    "import cv2"
   ]
  },
  {
   "cell_type": "code",
   "execution_count": 2,
   "id": "011d1105",
   "metadata": {},
   "outputs": [],
   "source": [
    "def read_heif(path):    \n",
    "    heif_file = pyheif.read(path)\n",
    "    img = Image.frombytes(\n",
    "        heif_file.mode, \n",
    "        heif_file.size, \n",
    "        heif_file.data,\n",
    "        \"raw\",\n",
    "        heif_file.mode,\n",
    "        heif_file.stride,\n",
    "    )\n",
    "    img = np.array(img)\n",
    "\n",
    "    return img"
   ]
  },
  {
   "cell_type": "code",
   "execution_count": 3,
   "id": "9c9fb9bf",
   "metadata": {},
   "outputs": [],
   "source": [
    "def convert_file_extensions(img_dir, save_dir, og_ext='.HEIC', new_ext='.jpg', resize=10):\n",
    "    img_paths = glob.glob(os.path.join(img_dir, '**/*.HEIC'), recursive=True)\n",
    "\n",
    "    for img_path in img_paths:\n",
    "        img = read_heif(img_path)\n",
    "        h = int(img.shape[0]/resize)\n",
    "        w = int(img.shape[1]/resize)\n",
    "        img = cv2.resize(img, (w, h))\n",
    "\n",
    "        save_path = img_path.replace(img_dir, save_dir).replace(og_ext, new_ext)\n",
    "        if not os.path.exists(os.path.dirname(save_path)):\n",
    "            os.makedirs(os.path.dirname(save_path))\n",
    "        im = Image.fromarray(img)\n",
    "        im.save(save_path)\n",
    "        \n",
    "    print('Done')"
   ]
  },
  {
   "cell_type": "code",
   "execution_count": 4,
   "id": "3c631f15",
   "metadata": {},
   "outputs": [
    {
     "name": "stdout",
     "output_type": "stream",
     "text": [
      "Done\n"
     ]
    }
   ],
   "source": [
    "img_dir = 'alc_data_test_heic'\n",
    "save_dir = 'alc_data_test'\n",
    "\n",
    "convert_file_extensions(img_dir, save_dir)"
   ]
  },
  {
   "cell_type": "code",
   "execution_count": 4,
   "id": "8c138502",
   "metadata": {},
   "outputs": [],
   "source": [
    "import splitfolders"
   ]
  },
  {
   "cell_type": "code",
   "execution_count": 7,
   "id": "99908cf3",
   "metadata": {},
   "outputs": [
    {
     "name": "stderr",
     "output_type": "stream",
     "text": [
      "Copying files: 470 files [00:00, 13812.91 files/s]\n"
     ]
    }
   ],
   "source": [
    "splitfolders.ratio(\"data_jpg_copy/alc_data\", output=\"data/\", seed=1337, ratio=(.8, .2), move=False)"
   ]
  },
  {
   "cell_type": "code",
   "execution_count": null,
   "id": "0d4f79f8",
   "metadata": {},
   "outputs": [],
   "source": []
  }
 ],
 "metadata": {
  "kernelspec": {
   "display_name": "Python 3 (ipykernel)",
   "language": "python",
   "name": "python3"
  },
  "language_info": {
   "codemirror_mode": {
    "name": "ipython",
    "version": 3
   },
   "file_extension": ".py",
   "mimetype": "text/x-python",
   "name": "python",
   "nbconvert_exporter": "python",
   "pygments_lexer": "ipython3",
   "version": "3.9.7"
  }
 },
 "nbformat": 4,
 "nbformat_minor": 5
}
